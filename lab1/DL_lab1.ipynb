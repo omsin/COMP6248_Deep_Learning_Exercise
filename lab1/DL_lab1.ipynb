{
 "cells": [
  {
   "cell_type": "code",
   "execution_count": 1,
   "metadata": {},
   "outputs": [],
   "source": [
    "import numpy as np\n",
    "from typing import Tuple\n",
    "import torch"
   ]
  },
  {
   "cell_type": "code",
   "execution_count": 2,
   "metadata": {},
   "outputs": [],
   "source": [
    "import pandas   as   pd\n",
    "df  =  pd.read_csv ('http://archive.ics.uci.edu/ml/machine-learning-databases/iris/iris.data', header=None)\n",
    "data = torch.tensor(df.iloc[:,[0,1,2,3]].values)\n",
    "data = data - data.mean(dim=0)"
   ]
  },
  {
   "cell_type": "code",
   "execution_count": 3,
   "metadata": {},
   "outputs": [],
   "source": [
    "seed = 1\n",
    "torch.manual_seed(seed)\n",
    "torch.backends.cudnn.deterministic = True\n",
    "torch.backends.cudnn.benchmark = False"
   ]
  },
  {
   "cell_type": "markdown",
   "metadata": {},
   "source": [
    "# Matrix factorisation using gradient descent"
   ]
  },
  {
   "cell_type": "code",
   "execution_count": 6,
   "metadata": {},
   "outputs": [
    {
     "name": "stdout",
     "output_type": "stream",
     "text": [
      "0\n",
      "300\n",
      "600\n",
      "900\n",
      "tensor([[ 0.6741, -0.1215],\n",
      "        [ 0.2116,  1.6963],\n",
      "        [ 0.9354,  1.3231]]) tensor([[ 0.6635,  1.8306],\n",
      "        [ 0.7727, -0.0993],\n",
      "        [ 0.7184,  1.0786]])\n"
     ]
    },
    {
     "data": {
      "text/plain": [
       "tensor(0.0136)"
      ]
     },
     "execution_count": 6,
     "metadata": {},
     "output_type": "execute_result"
    }
   ],
   "source": [
    "from typing import Tuple\n",
    "def sgd_factorise(A:torch.tensor, rank:int, numepochs = 1000, lr = 0.01)->(torch.tensor, torch.tensor):\n",
    "    [m,n] = A.shape\n",
    "    torch.manual_seed(seed)\n",
    "    U = torch.rand(m,rank)\n",
    "    V = torch.rand(n,rank)\n",
    "    for epoch in range(numepochs):\n",
    "        for r in range(m):\n",
    "            for c in range(n):\n",
    "                e = A[r,c] - U[r,:] @ V[c,:].t()\n",
    "                U[r,:] = U[r,:] + lr*e*V[c,:] #U的近似梯度是e*V\n",
    "                V[c,:] = V[c,:] + lr*e*U[r,:] #同上\n",
    "        if epoch%300 == 0:\n",
    "            print(epoch)\n",
    "    return (U, V)\n",
    "\n",
    "\n",
    "A = torch.tensor([[0.3374, 0.6005, 0.1735],\n",
    "                  [3.3359, 0.0492, 1.8374],\n",
    "                  [2.9407, 0.5301, 2.2620]])\n",
    "\n",
    "(U,V) = sgd_factorise(A,2)\n",
    "print(U,V)\n",
    "torch.nn.functional.mse_loss(A, torch.mm(U,V.t()))"
   ]
  },
  {
   "cell_type": "markdown",
   "metadata": {},
   "source": [
    "# Truncated SVD"
   ]
  },
  {
   "cell_type": "code",
   "execution_count": 5,
   "metadata": {},
   "outputs": [
    {
     "data": {
      "text/plain": [
       "tensor(0.0135)"
      ]
     },
     "execution_count": 5,
     "metadata": {},
     "output_type": "execute_result"
    }
   ],
   "source": [
    "U,Σ,V= torch.svd(A)\n",
    "t = 2\n",
    "Σ = torch.diag(Σ[0:t])\n",
    "U=U[:,0:t]\n",
    "V=V[:,0:t]\n",
    "\n",
    "A_tilde = U @ Σ @ V.t()\n",
    "torch.nn.functional.mse_loss(A, A_tilde)"
   ]
  },
  {
   "cell_type": "markdown",
   "metadata": {},
   "source": [
    "# Matrix completion"
   ]
  },
  {
   "cell_type": "code",
   "execution_count": 131,
   "metadata": {},
   "outputs": [
    {
     "name": "stdout",
     "output_type": "stream",
     "text": [
      "0\n",
      "300\n",
      "600\n",
      "900\n",
      "tensor([[0.3425, 0.5994, 0.1677],\n",
      "        [2.1154, 0.0494, 1.8366],\n",
      "        [2.9396, 1.3863, 2.2634]]) tensor([[-0.2800, -0.4419],\n",
      "        [-0.8746,  0.9651],\n",
      "        [-1.5238,  0.0085]]) tensor([[-1.9266,  0.4459],\n",
      "        [-0.9141, -0.7772],\n",
      "        [-1.4823,  0.5598]])\n"
     ]
    },
    {
     "data": {
      "text/plain": [
       "tensor(0.2470)"
      ]
     },
     "execution_count": 131,
     "metadata": {},
     "output_type": "execute_result"
    }
   ],
   "source": [
    "def sgd_factorise_masked(A:torch.tensor, M:torch.tensor, rank:int, numepochs = 1000, lr = 0.01)->(torch.tensor, torch.tensor):\n",
    "    [m,n] = A.shape\n",
    "    torch.manual_seed(seed)\n",
    "    U = torch.randn(m,rank)\n",
    "    V = torch.randn(n,rank)\n",
    "    for epoch in range(numepochs):\n",
    "        for r in range(m):\n",
    "            for c in range(n):\n",
    "                if M[r,c] != 0:\n",
    "                    e = A[r,c] - U[r,:] @ V[c,:].t()\n",
    "                    U[r,:] = U[r,:] + lr*e*V[c,:]\n",
    "                    V[c,:] = V[c,:] + lr*e*U[r,:]\n",
    "        if epoch%300 == 0:\n",
    "            print(epoch)\n",
    "    return (U, V)\n",
    "\n",
    "A_ic = torch.tensor([[0.3374, 0.6005, 0.1735],\n",
    "                  [0.    , 0.0492, 1.8374],\n",
    "                  [2.9407, 0.    , 2.2620]],dtype = float)\n",
    "M = torch.tensor([[1, 1, 1],\n",
    "                  [0, 1, 1],\n",
    "                  [1, 0, 1]],dtype = int)\n",
    "\n",
    "U,V = sgd_factorise_masked(A,M,2)\n",
    "A_c= U @ V.t()\n",
    "print(A_c, U, V)\n",
    "torch.nn.functional.mse_loss(A, A_c)"
   ]
  },
  {
   "cell_type": "code",
   "execution_count": null,
   "metadata": {},
   "outputs": [],
   "source": []
  }
 ],
 "metadata": {
  "kernelspec": {
   "display_name": "Python 3",
   "language": "python",
   "name": "python3"
  },
  "language_info": {
   "codemirror_mode": {
    "name": "ipython",
    "version": 3
   },
   "file_extension": ".py",
   "mimetype": "text/x-python",
   "name": "python",
   "nbconvert_exporter": "python",
   "pygments_lexer": "ipython3",
   "version": "3.7.6"
  }
 },
 "nbformat": 4,
 "nbformat_minor": 2
}

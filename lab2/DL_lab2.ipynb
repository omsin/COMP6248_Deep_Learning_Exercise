{
 "cells": [
  {
   "cell_type": "code",
   "execution_count": 6,
   "metadata": {},
   "outputs": [],
   "source": [
    "import torch\n",
    "from torch import autograd\n",
    "import numpy as np\n",
    "from typing import Tuple\n",
    "import torch"
   ]
  },
  {
   "cell_type": "code",
   "execution_count": 7,
   "metadata": {},
   "outputs": [],
   "source": [
    "a = torch.ones([1,2],requires_grad = True)\n",
    "b = torch.randn([2,1])\n",
    "c = torch.mm(a,b)\n",
    "c.backward()"
   ]
  },
  {
   "cell_type": "code",
   "execution_count": 8,
   "metadata": {},
   "outputs": [
    {
     "data": {
      "text/plain": [
       "tensor([[-1.5705, -0.1593]])"
      ]
     },
     "execution_count": 8,
     "metadata": {},
     "output_type": "execute_result"
    }
   ],
   "source": [
    "a.grad"
   ]
  },
  {
   "cell_type": "code",
   "execution_count": 9,
   "metadata": {},
   "outputs": [],
   "source": [
    "seed = 1\n",
    "torch.manual_seed(seed)\n",
    "torch.backends.cudnn.deterministic = True\n",
    "torch.backends.cudnn.benchmark = False"
   ]
  },
  {
   "cell_type": "code",
   "execution_count": 48,
   "metadata": {},
   "outputs": [
    {
     "name": "stdout",
     "output_type": "stream",
     "text": [
      "epoch: 0 loss: 17.55448341369629\n",
      "epoch: 100 loss: 0.23555728793144226\n",
      "epoch: 200 loss: 0.14199630916118622\n",
      "epoch: 300 loss: 0.12693637609481812\n",
      "epoch: 400 loss: 0.12319667637348175\n",
      "epoch: 500 loss: 0.1222386509180069\n",
      "epoch: 600 loss: 0.12199428677558899\n",
      "epoch: 700 loss: 0.12193208187818527\n",
      "epoch: 800 loss: 0.1219162568449974\n",
      "epoch: 900 loss: 0.12191219627857208\n"
     ]
    },
    {
     "data": {
      "text/plain": [
       "tensor(0.0135, grad_fn=<MeanBackward0>)"
      ]
     },
     "execution_count": 48,
     "metadata": {},
     "output_type": "execute_result"
    }
   ],
   "source": [
    "from typing import Tuple\n",
    "\n",
    "def sgd_factorise_ad(A:torch.tensor, rank:int, numepochs = 1000, lr = 0.01)->(torch.tensor, torch.tensor):\n",
    "    [m,n] = A.shape\n",
    "    torch.manual_seed(seed)\n",
    "\n",
    "    U = torch.rand(m,rank,requires_grad = True)\n",
    "    V = torch.rand(n,rank,requires_grad = True)\n",
    "    for epoch in range(numepochs):\n",
    "        U.grad=None\n",
    "        V.grad=None\n",
    "        \n",
    "        loss = torch.nn.functional.mse_loss(A, torch.mm(U,V.t()), reduction='sum')\n",
    "        loss.backward()\n",
    "        \n",
    "        #print()\n",
    "        U.data = U - lr * U.grad\n",
    "        #U.data = U_\n",
    "        V.data = V - lr * V.grad\n",
    "        #V.data = V_\n",
    "        \n",
    "        \n",
    "        if epoch%100 == 0:\n",
    "            print('epoch:', epoch, 'loss:', loss.item())\n",
    "    return (U, V)\n",
    "\n",
    "\n",
    "A = torch.tensor([[0.3374, 0.6005, 0.1735],\n",
    "                  [3.3359, 0.0492, 1.8374],\n",
    "                  [2.9407, 0.5301, 2.2620]])\n",
    "\n",
    "(U,V) = sgd_factorise_ad(A,2)\n",
    "#print(U,V)\n",
    "torch.nn.functional.mse_loss(A, torch.mm(U,V.t()))"
   ]
  },
  {
   "cell_type": "markdown",
   "metadata": {},
   "source": [
    "# Iris dataset"
   ]
  },
  {
   "cell_type": "code",
   "execution_count": 2,
   "metadata": {},
   "outputs": [
    {
     "ename": "NameError",
     "evalue": "name 'torch' is not defined",
     "output_type": "error",
     "traceback": [
      "\u001b[1;31m---------------------------------------------------------------------------\u001b[0m",
      "\u001b[1;31mNameError\u001b[0m                                 Traceback (most recent call last)",
      "\u001b[1;32m<ipython-input-2-4c1d576dfdce>\u001b[0m in \u001b[0;36m<module>\u001b[1;34m\u001b[0m\n\u001b[0;32m      1\u001b[0m \u001b[1;32mimport\u001b[0m \u001b[0mpandas\u001b[0m   \u001b[1;32mas\u001b[0m   \u001b[0mpd\u001b[0m\u001b[1;33m\u001b[0m\u001b[1;33m\u001b[0m\u001b[0m\n\u001b[0;32m      2\u001b[0m \u001b[0mdf\u001b[0m  \u001b[1;33m=\u001b[0m  \u001b[0mpd\u001b[0m\u001b[1;33m.\u001b[0m\u001b[0mread_csv\u001b[0m \u001b[1;33m(\u001b[0m\u001b[1;34m'http://archive.ics.uci.edu/ml/machine-learning-databases/iris/iris.data'\u001b[0m\u001b[1;33m,\u001b[0m \u001b[0mheader\u001b[0m\u001b[1;33m=\u001b[0m\u001b[1;32mNone\u001b[0m\u001b[1;33m)\u001b[0m\u001b[1;33m\u001b[0m\u001b[1;33m\u001b[0m\u001b[0m\n\u001b[1;32m----> 3\u001b[1;33m \u001b[0mdata\u001b[0m \u001b[1;33m=\u001b[0m \u001b[0mtorch\u001b[0m\u001b[1;33m.\u001b[0m\u001b[0mtensor\u001b[0m\u001b[1;33m(\u001b[0m\u001b[0mdf\u001b[0m\u001b[1;33m.\u001b[0m\u001b[0miloc\u001b[0m\u001b[1;33m[\u001b[0m\u001b[1;33m:\u001b[0m\u001b[1;33m,\u001b[0m\u001b[1;33m[\u001b[0m\u001b[1;36m0\u001b[0m\u001b[1;33m,\u001b[0m\u001b[1;36m1\u001b[0m\u001b[1;33m,\u001b[0m\u001b[1;36m2\u001b[0m\u001b[1;33m,\u001b[0m\u001b[1;36m3\u001b[0m\u001b[1;33m]\u001b[0m\u001b[1;33m]\u001b[0m\u001b[1;33m.\u001b[0m\u001b[0mvalues\u001b[0m\u001b[1;33m)\u001b[0m\u001b[1;33m\u001b[0m\u001b[1;33m\u001b[0m\u001b[0m\n\u001b[0m\u001b[0;32m      4\u001b[0m \u001b[0mdata\u001b[0m \u001b[1;33m=\u001b[0m \u001b[0mdata\u001b[0m \u001b[1;33m-\u001b[0m \u001b[0mdata\u001b[0m\u001b[1;33m.\u001b[0m\u001b[0mmean\u001b[0m\u001b[1;33m(\u001b[0m\u001b[0mdim\u001b[0m\u001b[1;33m=\u001b[0m\u001b[1;36m0\u001b[0m\u001b[1;33m)\u001b[0m\u001b[1;33m\u001b[0m\u001b[1;33m\u001b[0m\u001b[0m\n",
      "\u001b[1;31mNameError\u001b[0m: name 'torch' is not defined"
     ]
    }
   ],
   "source": [
    "import pandas   as   pd\n",
    "df  =  pd.read_csv ('http://archive.ics.uci.edu/ml/machine-learning-databases/iris/iris.data', header=None)\n",
    "data = torch.tensor(df.iloc[:,[0,1,2,3]].values)\n",
    "data = data - data.mean(dim=0)"
   ]
  },
  {
   "cell_type": "markdown",
   "metadata": {},
   "source": [
    "$SGD$"
   ]
  },
  {
   "cell_type": "code",
   "execution_count": 108,
   "metadata": {},
   "outputs": [
    {
     "name": "stdout",
     "output_type": "stream",
     "text": [
      "epoch: 0 loss: 820.5762200622535\n",
      "epoch: 100 loss: 51.11466896539471\n",
      "epoch: 200 loss: 50.27467391896267\n",
      "epoch: 300 loss: 45.85877841798051\n",
      "epoch: 400 loss: 32.28319538176266\n",
      "epoch: 500 loss: 19.705431018248685\n",
      "epoch: 600 loss: 16.02441304370252\n",
      "epoch: 700 loss: 15.36057934619984\n",
      "epoch: 800 loss: 15.251112326118085\n",
      "epoch: 900 loss: 15.232809160610875\n",
      "Loss: 0.025382665811185288\n"
     ]
    }
   ],
   "source": [
    "(U,V) = sgd_factorise_ad(data,2)\n",
    "print('Loss:',torch.nn.functional.mse_loss(data, torch.mm(U,V.t())).item())"
   ]
  },
  {
   "cell_type": "markdown",
   "metadata": {},
   "source": [
    "$SVD$"
   ]
  },
  {
   "cell_type": "code",
   "execution_count": 109,
   "metadata": {},
   "outputs": [
    {
     "name": "stdout",
     "output_type": "stream",
     "text": [
      "Loss: 0.025381388913005544\n"
     ]
    }
   ],
   "source": [
    "A = data.data\n",
    "\n",
    "U,Σ,V= torch.svd(A)\n",
    "t = 2\n",
    "Σ = torch.diag(Σ[0:t])\n",
    "U=U[:,0:t]\n",
    "V=V[:,0:t]\n",
    "\n",
    "A_tilde = U @ Σ @ V.t()\n",
    "print('Loss:',torch.nn.functional.mse_loss(A, A_tilde).item())"
   ]
  },
  {
   "cell_type": "code",
   "execution_count": 252,
   "metadata": {},
   "outputs": [
    {
     "data": {
      "text/plain": [
       "Text(0.5, 1.0, 'SVD')"
      ]
     },
     "execution_count": 252,
     "metadata": {},
     "output_type": "execute_result"
    },
    {
     "data": {
      "image/png": "[encoded data removed]",
      "text/plain": [
       "<Figure size 576x288 with 2 Axes>"
      ]
     },
     "metadata": {
      "needs_background": "light"
     },
     "output_type": "display_data"
    }
   ],
   "source": [
    "import matplotlib.pyplot as plt\n",
    "\n",
    "fig,ax = plt.subplots(nrows=1,ncols=2, figsize = (8,4))\n",
    "\n",
    "ax[0].scatter(U[:,0], -U[:,1], c = 'b')\n",
    "ax[0].set_title('PCA')\n",
    "ax[1].scatter(A_tilde[:,0],A_tilde[:,1], c = 'r')\n",
    "ax[1].set_title('SVD')\n"
   ]
  },
  {
   "cell_type": "markdown",
   "metadata": {},
   "source": [
    "when I turn the scatter plot of SVD up and down, they become similar to each other.\n",
    "These orthogonal linear transforms project a matrix to lower dimensional space so that it can be described by lower-dimension matrices(or vectors) with least information loss. Furthermore, These transforms denoise the matrix in each original dimension."
   ]
  },
  {
   "cell_type": "markdown",
   "metadata": {},
   "source": [
    "# MLP"
   ]
  },
  {
   "cell_type": "code",
   "execution_count": 4,
   "metadata": {},
   "outputs": [],
   "source": [
    "import pandas as pd\n",
    "import torch\n",
    "df  =  pd.read_csv ('http://archive.ics.uci.edu/ml/machine-learning-databases/iris/iris.data', header=None)\n",
    "df = df.sample(frac=1)#shuffle\n",
    "\n",
    "\n",
    "#add label indices column\n",
    "mapping = {k:v for v,k in enumerate(df[4].unique())}\n",
    "df[5]=df[4].map(mapping)\n",
    "\n",
    "#normalise data\n",
    "alldata = torch.tensor(df.iloc[:,[0,1,2,3]].values,dtype=torch.float)\n",
    "alldata = (alldata - alldata.mean(dim=0))/alldata.var(dim=0)\n",
    "\n",
    "\n",
    "#create datasets\n",
    "targetstr=torch.tensor(df.iloc[:100,5].values,dtype=torch.long) #training set\n",
    "targetsva=torch.tensor(df.iloc[100:,5].values,dtype=torch.long) #validation set\n",
    "datatr=alldata[:100]\n",
    "datava=alldata[100:]\n",
    "\n",
    "# datatr = datatr.unsqueeze(0)\n",
    "# datava = datava.unsqueeze(0)"
   ]
  },
  {
   "cell_type": "code",
   "execution_count": 6,
   "metadata": {},
   "outputs": [
    {
     "data": {
      "text/plain": [
       "torch.Size([50, 4])"
      ]
     },
     "execution_count": 6,
     "metadata": {},
     "output_type": "execute_result"
    }
   ],
   "source": [
    "datava.shape"
   ]
  },
  {
   "cell_type": "code",
   "execution_count": 277,
   "metadata": {
    "scrolled": true
   },
   "outputs": [
    {
     "name": "stdout",
     "output_type": "stream",
     "text": [
      "epoch 0  loss: 0.9812206029891968\n",
      "epoch 250  loss: 0.06764069944620132\n",
      "epoch 500  loss: 0.053915757685899734\n",
      "epoch 750  loss: 0.04093702882528305\n",
      "epoch 1000  loss: 1.1086402196269773e-07\n",
      "epoch 1250  loss: 0.00037317140959203243\n",
      "epoch 1500  loss: 0.002805523807182908\n",
      "epoch 1750  loss: 0.0020774754229933023\n",
      "training acc: 1.0\n",
      "validation acc: 0.98\n"
     ]
    },
    {
     "data": {
      "text/plain": [
       "tensor([0, 2, 2, 1, 2, 1, 0, 1, 1, 0, 1, 1, 0, 0, 1, 2, 1, 2, 1, 0, 1, 1, 2, 2,\n",
       "        0, 2, 0, 0, 2, 2, 2, 2, 2, 2, 2, 2, 1, 1, 0, 2, 0, 1, 2, 1, 2, 2, 1, 0,\n",
       "        2, 1])"
      ]
     },
     "execution_count": 277,
     "metadata": {},
     "output_type": "execute_result"
    }
   ],
   "source": [
    "import torch.nn.functional as F\n",
    "\n",
    "def MLP(data, W1, b1, W2, b2):\n",
    "    return torch.relu(data @ W1 + b1) @ W2 + b2\n",
    "\n",
    "def train(data, lr = 0.01, numepochs = 100):\n",
    "    assert data.shape[1] == 4\n",
    "    W1 = torch.rand((4,12), requires_grad = True)\n",
    "    W2 = torch.rand((12,3), requires_grad = True)\n",
    "    b1 = torch.tensor([0.0], requires_grad = True)\n",
    "    b2 = torch.tensor([0.0], requires_grad = True)\n",
    "    for epoch in range(numepochs):\n",
    "        logits = MLP(data, W1, b1, W2, b2)\n",
    "        loss = F.cross_entropy(logits, targetstr)        \n",
    "        loss.backward()\n",
    "        #update\n",
    "        W1.data = W1.data - W1.grad * lr\n",
    "        W2.data = W2.data - W2.grad * lr\n",
    "        b1.data = b1.data - b1.grad * lr\n",
    "        b2.data = b2.data - b2.grad * lr\n",
    "        \n",
    "        if (epoch)%250==0:\n",
    "            print('epoch',epoch,' loss:',loss.item())\n",
    "            \n",
    "    return W1,b1,W2,b2  \n",
    "    \n",
    "def evaluate(data, targets, W1, b1, W2, b2):\n",
    "    assert data.shape[1] == 4\n",
    "    logits = MLP(data, W1, b1, W2, b2)\n",
    "    pred = torch.max(logits,1)\n",
    "    a = torch.eq(pred[1], targets, out=None)\n",
    "    print('acc:',float(a.sum())/float(a.shape[0]))\n",
    "    return pred[1]\n",
    "    \n",
    "    \n",
    "W1, b1, W2, b2 = train(datatr,0.002,2000)\n",
    "print('training ', end = '')\n",
    "evaluate(datatr,targetstr, W1, b1, W2, b2)\n",
    "print('validation ', end = '')\n",
    "evaluate(datava,targetsva, W1, b1, W2, b2)\n",
    "\n"
   ]
  },
  {
   "cell_type": "markdown",
   "metadata": {},
   "source": [
    " model not stable since its default lr is too high, which dependent too much of decent initial weights.\n",
    " \n",
    " however, if lr is tuned down to 0.001 and epoch up 20 times to 2000, tr acc and va acc stablise quite a lot.\n",
    " they are both fluctuating around 95%~99% and the former is slightly lower by 1-8%. "
   ]
  },
  {
   "cell_type": "code",
   "execution_count": null,
   "metadata": {},
   "outputs": [],
   "source": []
  }
 ],
 "metadata": {
  "kernelspec": {
   "display_name": "Python 3",
   "language": "python",
   "name": "python3"
  },
  "language_info": {
   "codemirror_mode": {
    "name": "ipython",
    "version": 3
   },
   "file_extension": ".py",
   "mimetype": "text/x-python",
   "name": "python",
   "nbconvert_exporter": "python",
   "pygments_lexer": "ipython3",
   "version": "3.7.6"
  }
 },
 "nbformat": 4,
 "nbformat_minor": 4
}
